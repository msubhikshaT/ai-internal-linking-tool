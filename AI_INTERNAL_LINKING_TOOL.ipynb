{
  "nbformat": 4,
  "nbformat_minor": 0,
  "metadata": {
    "colab": {
      "provenance": [],
      "authorship_tag": "ABX9TyMXxs7X9jS1n+HduBqDNDot",
      "include_colab_link": true
    },
    "kernelspec": {
      "name": "python3",
      "display_name": "Python 3"
    },
    "language_info": {
      "name": "python"
    }
  },
  "cells": [
    {
      "cell_type": "markdown",
      "metadata": {
        "id": "view-in-github",
        "colab_type": "text"
      },
      "source": [
        "<a href=\"https://colab.research.google.com/github/msubhikshaT/ai-internal-linking-tool/blob/main/AI_INTERNAL_LINKING_TOOL.ipynb\" target=\"_parent\"><img src=\"https://colab.research.google.com/assets/colab-badge.svg\" alt=\"Open In Colab\"/></a>"
      ]
    },
    {
      "cell_type": "code",
      "execution_count": 22,
      "metadata": {
        "colab": {
          "base_uri": "https://localhost:8080/"
        },
        "id": "oM5o_qug0YWU",
        "outputId": "cd84fb82-c281-4002-eef1-3355d7a9d966"
      },
      "outputs": [
        {
          "output_type": "stream",
          "name": "stdout",
          "text": [
            "Requirement already satisfied: playwright in /usr/local/lib/python3.11/dist-packages (1.50.0)\n",
            "Requirement already satisfied: pyee<13,>=12 in /usr/local/lib/python3.11/dist-packages (from playwright) (12.1.1)\n",
            "Requirement already satisfied: greenlet<4.0.0,>=3.1.1 in /usr/local/lib/python3.11/dist-packages (from playwright) (3.1.1)\n",
            "Requirement already satisfied: typing-extensions in /usr/local/lib/python3.11/dist-packages (from pyee<13,>=12->playwright) (4.12.2)\n",
            "Requirement already satisfied: cheerio in /usr/local/lib/python3.11/dist-packages (1.4)\n",
            "Requirement already satisfied: pyppeteer in /usr/local/lib/python3.11/dist-packages (0.0.25)\n",
            "Requirement already satisfied: pyee in /usr/local/lib/python3.11/dist-packages (from pyppeteer) (12.1.1)\n",
            "Requirement already satisfied: websockets in /usr/local/lib/python3.11/dist-packages (from pyppeteer) (10.3)\n",
            "Requirement already satisfied: appdirs in /usr/local/lib/python3.11/dist-packages (from pyppeteer) (1.4.4)\n",
            "Requirement already satisfied: urllib3 in /usr/local/lib/python3.11/dist-packages (from pyppeteer) (1.26.20)\n",
            "Requirement already satisfied: tqdm in /usr/local/lib/python3.11/dist-packages (from pyppeteer) (4.67.1)\n",
            "Requirement already satisfied: typing-extensions in /usr/local/lib/python3.11/dist-packages (from pyee->pyppeteer) (4.12.2)\n"
          ]
        }
      ],
      "source": [
        "!pip install playwright\n",
        "!pip install cheerio\n",
        "!pip install pyppeteer"
      ]
    },
    {
      "cell_type": "code",
      "source": [
        "!pip install pyppeteer"
      ],
      "metadata": {
        "colab": {
          "base_uri": "https://localhost:8080/"
        },
        "id": "grhpnQ8e1F-E",
        "outputId": "f1df04a6-a078-4cdc-c2ed-fa3b8313e631"
      },
      "execution_count": 2,
      "outputs": [
        {
          "output_type": "stream",
          "name": "stdout",
          "text": [
            "Requirement already satisfied: pyppeteer in /usr/local/lib/python3.11/dist-packages (0.0.25)\n",
            "Requirement already satisfied: pyee in /usr/local/lib/python3.11/dist-packages (from pyppeteer) (12.1.1)\n",
            "Requirement already satisfied: websockets in /usr/local/lib/python3.11/dist-packages (from pyppeteer) (10.3)\n",
            "Requirement already satisfied: appdirs in /usr/local/lib/python3.11/dist-packages (from pyppeteer) (1.4.4)\n",
            "Requirement already satisfied: urllib3 in /usr/local/lib/python3.11/dist-packages (from pyppeteer) (1.26.20)\n",
            "Requirement already satisfied: tqdm in /usr/local/lib/python3.11/dist-packages (from pyppeteer) (4.67.1)\n",
            "Requirement already satisfied: typing-extensions in /usr/local/lib/python3.11/dist-packages (from pyee->pyppeteer) (4.12.2)\n"
          ]
        }
      ]
    },
    {
      "cell_type": "code",
      "source": [
        "!apt-get update\n",
        "!apt-get install -y wget curl unzip\n",
        "!apt-get install -y libx11-dev libgdk-pixbuf2.0-dev libnss3 libatk-bridge2.0-0 libxss1 libgdk-pixbuf2.0-0\n",
        "!apt-get install -y libx11-xcb1 libasound2 libatk1.0-0 libcups2 libdbus-1-3 libgdk-pixbuf2.0-0\n",
        "!apt-get install -y libnspr4 libnss3 libx11-xcb1\n",
        "!pip install pyppeteer"
      ],
      "metadata": {
        "colab": {
          "base_uri": "https://localhost:8080/"
        },
        "id": "G35S8rOx1eY7",
        "outputId": "f9fea1ec-b85d-4061-ab4e-22fdada8ee9a"
      },
      "execution_count": 3,
      "outputs": [
        {
          "output_type": "stream",
          "name": "stdout",
          "text": [
            "\r0% [Working]\r            \rHit:1 http://security.ubuntu.com/ubuntu jammy-security InRelease\n",
            "\r0% [Connecting to archive.ubuntu.com (185.125.190.81)] [Connected to cloud.r-project.org (3.171.85.1\r                                                                                                    \rHit:2 https://cloud.r-project.org/bin/linux/ubuntu jammy-cran40/ InRelease\n",
            "\r0% [Connecting to archive.ubuntu.com (185.125.190.81)] [Connected to r2u.stat.illinois.edu (192.17.1\r                                                                                                    \rHit:3 https://developer.download.nvidia.com/compute/cuda/repos/ubuntu2204/x86_64  InRelease\n",
            "\r0% [Waiting for headers] [Waiting for headers] [Connected to ppa.launchpadcontent.net (185.125.190.8\r                                                                                                    \rHit:4 http://archive.ubuntu.com/ubuntu jammy InRelease\n",
            "\r0% [Waiting for headers] [Waiting for headers] [Connected to ppa.launchpadcontent.net (185.125.190.8\r                                                                                                    \rHit:5 https://r2u.stat.illinois.edu/ubuntu jammy InRelease\n",
            "Hit:6 http://archive.ubuntu.com/ubuntu jammy-updates InRelease\n",
            "Hit:7 http://archive.ubuntu.com/ubuntu jammy-backports InRelease\n",
            "Hit:8 https://ppa.launchpadcontent.net/deadsnakes/ppa/ubuntu jammy InRelease\n",
            "Hit:9 https://ppa.launchpadcontent.net/graphics-drivers/ppa/ubuntu jammy InRelease\n",
            "Hit:10 https://ppa.launchpadcontent.net/ubuntugis/ppa/ubuntu jammy InRelease\n",
            "Reading package lists... Done\n",
            "W: Skipping acquire of configured file 'main/source/Sources' as repository 'https://r2u.stat.illinois.edu/ubuntu jammy InRelease' does not seem to provide it (sources.list entry misspelt?)\n",
            "Reading package lists... Done\n",
            "Building dependency tree... Done\n",
            "Reading state information... Done\n",
            "curl is already the newest version (7.81.0-1ubuntu1.20).\n",
            "unzip is already the newest version (6.0-26ubuntu3.2).\n",
            "wget is already the newest version (1.21.2-2ubuntu1.1).\n",
            "0 upgraded, 0 newly installed, 0 to remove and 22 not upgraded.\n",
            "Reading package lists... Done\n",
            "Building dependency tree... Done\n",
            "Reading state information... Done\n",
            "libatk-bridge2.0-0 is already the newest version (2.38.0-3).\n",
            "libgdk-pixbuf2.0-dev is already the newest version (2.40.2-2build4).\n",
            "libxss1 is already the newest version (1:1.2.3-1build2).\n",
            "libgdk-pixbuf2.0-0 is already the newest version (2.40.2-2build4).\n",
            "libnss3 is already the newest version (2:3.98-0ubuntu0.22.04.2).\n",
            "libx11-dev is already the newest version (2:1.7.5-1ubuntu0.3).\n",
            "0 upgraded, 0 newly installed, 0 to remove and 22 not upgraded.\n",
            "Reading package lists... Done\n",
            "Building dependency tree... Done\n",
            "Reading state information... Done\n",
            "libasound2 is already the newest version (1.2.6.1-1ubuntu1).\n",
            "libatk1.0-0 is already the newest version (2.36.0-3build1).\n",
            "libgdk-pixbuf2.0-0 is already the newest version (2.40.2-2build4).\n",
            "libcups2 is already the newest version (2.4.1op1-1ubuntu4.11).\n",
            "libdbus-1-3 is already the newest version (1.12.20-2ubuntu4.1).\n",
            "libx11-xcb1 is already the newest version (2:1.7.5-1ubuntu0.3).\n",
            "0 upgraded, 0 newly installed, 0 to remove and 22 not upgraded.\n",
            "Reading package lists... Done\n",
            "Building dependency tree... Done\n",
            "Reading state information... Done\n",
            "libnspr4 is already the newest version (2:4.35-0ubuntu0.22.04.1).\n",
            "libnss3 is already the newest version (2:3.98-0ubuntu0.22.04.2).\n",
            "libx11-xcb1 is already the newest version (2:1.7.5-1ubuntu0.3).\n",
            "0 upgraded, 0 newly installed, 0 to remove and 22 not upgraded.\n",
            "Requirement already satisfied: pyppeteer in /usr/local/lib/python3.11/dist-packages (0.0.25)\n",
            "Requirement already satisfied: pyee in /usr/local/lib/python3.11/dist-packages (from pyppeteer) (12.1.1)\n",
            "Requirement already satisfied: websockets in /usr/local/lib/python3.11/dist-packages (from pyppeteer) (10.3)\n",
            "Requirement already satisfied: appdirs in /usr/local/lib/python3.11/dist-packages (from pyppeteer) (1.4.4)\n",
            "Requirement already satisfied: urllib3 in /usr/local/lib/python3.11/dist-packages (from pyppeteer) (1.26.20)\n",
            "Requirement already satisfied: tqdm in /usr/local/lib/python3.11/dist-packages (from pyppeteer) (4.67.1)\n",
            "Requirement already satisfied: typing-extensions in /usr/local/lib/python3.11/dist-packages (from pyee->pyppeteer) (4.12.2)\n"
          ]
        }
      ]
    },
    {
      "cell_type": "code",
      "source": [
        "!apt-get update\n",
        "!apt-get install -y libgdk-pixbuf2.0-0 libglib2.0-0 libx11-xcb1 libxtst6 libnss3 libasound2 libxcomposite1 libxrandr2"
      ],
      "metadata": {
        "colab": {
          "base_uri": "https://localhost:8080/"
        },
        "id": "yB79Ez6622mI",
        "outputId": "e5c56622-288a-4b20-a6e7-2149da7e98e1"
      },
      "execution_count": 4,
      "outputs": [
        {
          "output_type": "stream",
          "name": "stdout",
          "text": [
            "\r0% [Working]\r            \rHit:1 http://security.ubuntu.com/ubuntu jammy-security InRelease\n",
            "\r0% [Waiting for headers] [Connected to cloud.r-project.org (3.171.85.81)] [Connected to r2u.stat.ill\r                                                                                                    \rHit:2 http://archive.ubuntu.com/ubuntu jammy InRelease\n",
            "\r                                                                                                    \rHit:3 http://archive.ubuntu.com/ubuntu jammy-updates InRelease\n",
            "\r                                                                                                    \rHit:4 http://archive.ubuntu.com/ubuntu jammy-backports InRelease\n",
            "\r                                                                                                    \rHit:5 https://cloud.r-project.org/bin/linux/ubuntu jammy-cran40/ InRelease\n",
            "\r0% [Connected to r2u.stat.illinois.edu (192.17.190.167)] [Connected to developer.download.nvidia.com\r                                                                                                    \rHit:6 https://developer.download.nvidia.com/compute/cuda/repos/ubuntu2204/x86_64  InRelease\n",
            "Hit:7 https://r2u.stat.illinois.edu/ubuntu jammy InRelease\n",
            "Hit:8 https://ppa.launchpadcontent.net/deadsnakes/ppa/ubuntu jammy InRelease\n",
            "Hit:9 https://ppa.launchpadcontent.net/graphics-drivers/ppa/ubuntu jammy InRelease\n",
            "Hit:10 https://ppa.launchpadcontent.net/ubuntugis/ppa/ubuntu jammy InRelease\n",
            "Reading package lists... Done\n",
            "W: Skipping acquire of configured file 'main/source/Sources' as repository 'https://r2u.stat.illinois.edu/ubuntu jammy InRelease' does not seem to provide it (sources.list entry misspelt?)\n",
            "Reading package lists... Done\n",
            "Building dependency tree... Done\n",
            "Reading state information... Done\n",
            "libasound2 is already the newest version (1.2.6.1-1ubuntu1).\n",
            "libxcomposite1 is already the newest version (1:0.4.5-1build2).\n",
            "libxrandr2 is already the newest version (2:1.5.2-1build1).\n",
            "libxtst6 is already the newest version (2:1.2.3-1build4).\n",
            "libgdk-pixbuf2.0-0 is already the newest version (2.40.2-2build4).\n",
            "libglib2.0-0 is already the newest version (2.72.4-0ubuntu2.4).\n",
            "libnss3 is already the newest version (2:3.98-0ubuntu0.22.04.2).\n",
            "libx11-xcb1 is already the newest version (2:1.7.5-1ubuntu0.3).\n",
            "0 upgraded, 0 newly installed, 0 to remove and 22 not upgraded.\n"
          ]
        }
      ]
    },
    {
      "cell_type": "code",
      "source": [
        "!pip install websockets==10.3"
      ],
      "metadata": {
        "colab": {
          "base_uri": "https://localhost:8080/"
        },
        "id": "YoJ_selC3ExS",
        "outputId": "643d6f75-5137-400d-aa26-abf92f863e92"
      },
      "execution_count": 5,
      "outputs": [
        {
          "output_type": "stream",
          "name": "stdout",
          "text": [
            "Requirement already satisfied: websockets==10.3 in /usr/local/lib/python3.11/dist-packages (10.3)\n"
          ]
        }
      ]
    },
    {
      "cell_type": "code",
      "source": [
        "!pip install playwright\n",
        "!python3 -m playwright install"
      ],
      "metadata": {
        "colab": {
          "base_uri": "https://localhost:8080/"
        },
        "id": "N1RdaU5x3tzq",
        "outputId": "90838071-8f69-48ed-d76a-9c5b24ed05d1"
      },
      "execution_count": 9,
      "outputs": [
        {
          "output_type": "stream",
          "name": "stdout",
          "text": [
            "Requirement already satisfied: playwright in /usr/local/lib/python3.11/dist-packages (1.50.0)\n",
            "Requirement already satisfied: pyee<13,>=12 in /usr/local/lib/python3.11/dist-packages (from playwright) (12.1.1)\n",
            "Requirement already satisfied: greenlet<4.0.0,>=3.1.1 in /usr/local/lib/python3.11/dist-packages (from playwright) (3.1.1)\n",
            "Requirement already satisfied: typing-extensions in /usr/local/lib/python3.11/dist-packages (from pyee<13,>=12->playwright) (4.12.2)\n",
            "Downloading Chromium 133.0.6943.16 (playwright build v1155)\u001b[2m from https://cdn.playwright.dev/dbazure/download/playwright/builds/chromium/1155/chromium-linux.zip\u001b[22m\n",
            "\u001b[1G163.5 MiB [] 0% 0.0s\u001b[0K\u001b[1G163.5 MiB [] 0% 24.5s\u001b[0K\u001b[1G163.5 MiB [] 0% 8.5s\u001b[0K\u001b[1G163.5 MiB [] 1% 4.7s\u001b[0K\u001b[1G163.5 MiB [] 1% 3.7s\u001b[0K\u001b[1G163.5 MiB [] 2% 3.3s\u001b[0K\u001b[1G163.5 MiB [] 3% 2.9s\u001b[0K\u001b[1G163.5 MiB [] 4% 2.6s\u001b[0K\u001b[1G163.5 MiB [] 5% 2.4s\u001b[0K\u001b[1G163.5 MiB [] 6% 2.5s\u001b[0K\u001b[1G163.5 MiB [] 6% 2.4s\u001b[0K\u001b[1G163.5 MiB [] 7% 2.4s\u001b[0K\u001b[1G163.5 MiB [] 8% 2.3s\u001b[0K\u001b[1G163.5 MiB [] 9% 2.3s\u001b[0K\u001b[1G163.5 MiB [] 9% 2.2s\u001b[0K\u001b[1G163.5 MiB [] 10% 2.2s\u001b[0K\u001b[1G163.5 MiB [] 11% 2.1s\u001b[0K\u001b[1G163.5 MiB [] 11% 2.2s\u001b[0K\u001b[1G163.5 MiB [] 12% 2.2s\u001b[0K\u001b[1G163.5 MiB [] 13% 2.1s\u001b[0K\u001b[1G163.5 MiB [] 14% 2.0s\u001b[0K\u001b[1G163.5 MiB [] 15% 2.0s\u001b[0K\u001b[1G163.5 MiB [] 16% 1.9s\u001b[0K\u001b[1G163.5 MiB [] 17% 1.8s\u001b[0K\u001b[1G163.5 MiB [] 18% 1.8s\u001b[0K\u001b[1G163.5 MiB [] 19% 1.7s\u001b[0K\u001b[1G163.5 MiB [] 20% 1.7s\u001b[0K\u001b[1G163.5 MiB [] 21% 1.6s\u001b[0K\u001b[1G163.5 MiB [] 23% 1.6s\u001b[0K\u001b[1G163.5 MiB [] 24% 1.6s\u001b[0K\u001b[1G163.5 MiB [] 25% 1.5s\u001b[0K\u001b[1G163.5 MiB [] 27% 1.5s\u001b[0K\u001b[1G163.5 MiB [] 28% 1.4s\u001b[0K\u001b[1G163.5 MiB [] 29% 1.4s\u001b[0K\u001b[1G163.5 MiB [] 30% 1.4s\u001b[0K\u001b[1G163.5 MiB [] 32% 1.3s\u001b[0K\u001b[1G163.5 MiB [] 33% 1.3s\u001b[0K\u001b[1G163.5 MiB [] 34% 1.2s\u001b[0K\u001b[1G163.5 MiB [] 36% 1.2s\u001b[0K\u001b[1G163.5 MiB [] 37% 1.2s\u001b[0K\u001b[1G163.5 MiB [] 38% 1.2s\u001b[0K\u001b[1G163.5 MiB [] 39% 1.2s\u001b[0K\u001b[1G163.5 MiB [] 40% 1.1s\u001b[0K\u001b[1G163.5 MiB [] 41% 1.1s\u001b[0K\u001b[1G163.5 MiB [] 43% 1.1s\u001b[0K\u001b[1G163.5 MiB [] 44% 1.1s\u001b[0K\u001b[1G163.5 MiB [] 45% 1.0s\u001b[0K\u001b[1G163.5 MiB [] 46% 1.0s\u001b[0K\u001b[1G163.5 MiB [] 47% 1.0s\u001b[0K\u001b[1G163.5 MiB [] 48% 0.9s\u001b[0K\u001b[1G163.5 MiB [] 50% 0.9s\u001b[0K\u001b[1G163.5 MiB [] 51% 0.9s\u001b[0K\u001b[1G163.5 MiB [] 52% 0.8s\u001b[0K\u001b[1G163.5 MiB [] 54% 0.8s\u001b[0K\u001b[1G163.5 MiB [] 55% 0.8s\u001b[0K\u001b[1G163.5 MiB [] 56% 0.8s\u001b[0K\u001b[1G163.5 MiB [] 58% 0.7s\u001b[0K\u001b[1G163.5 MiB [] 59% 0.7s\u001b[0K\u001b[1G163.5 MiB [] 60% 0.7s\u001b[0K\u001b[1G163.5 MiB [] 61% 0.7s\u001b[0K\u001b[1G163.5 MiB [] 62% 0.7s\u001b[0K\u001b[1G163.5 MiB [] 63% 0.7s\u001b[0K\u001b[1G163.5 MiB [] 64% 0.7s\u001b[0K\u001b[1G163.5 MiB [] 65% 0.7s\u001b[0K\u001b[1G163.5 MiB [] 66% 0.6s\u001b[0K\u001b[1G163.5 MiB [] 68% 0.6s\u001b[0K\u001b[1G163.5 MiB [] 69% 0.6s\u001b[0K\u001b[1G163.5 MiB [] 70% 0.6s\u001b[0K\u001b[1G163.5 MiB [] 71% 0.6s\u001b[0K\u001b[1G163.5 MiB [] 72% 0.5s\u001b[0K\u001b[1G163.5 MiB [] 74% 0.5s\u001b[0K\u001b[1G163.5 MiB [] 76% 0.5s\u001b[0K\u001b[1G163.5 MiB [] 77% 0.4s\u001b[0K\u001b[1G163.5 MiB [] 78% 0.4s\u001b[0K\u001b[1G163.5 MiB [] 79% 0.4s\u001b[0K\u001b[1G163.5 MiB [] 80% 0.4s\u001b[0K\u001b[1G163.5 MiB [] 81% 0.4s\u001b[0K\u001b[1G163.5 MiB [] 82% 0.3s\u001b[0K\u001b[1G163.5 MiB [] 83% 0.3s\u001b[0K\u001b[1G163.5 MiB [] 84% 0.3s\u001b[0K\u001b[1G163.5 MiB [] 85% 0.3s\u001b[0K\u001b[1G163.5 MiB [] 86% 0.3s\u001b[0K\u001b[1G163.5 MiB [] 87% 0.2s\u001b[0K\u001b[1G163.5 MiB [] 88% 0.2s\u001b[0K\u001b[1G163.5 MiB [] 89% 0.2s\u001b[0K\u001b[1G163.5 MiB [] 90% 0.2s\u001b[0K\u001b[1G163.5 MiB [] 91% 0.2s\u001b[0K\u001b[1G163.5 MiB [] 92% 0.1s\u001b[0K\u001b[1G163.5 MiB [] 93% 0.1s\u001b[0K\u001b[1G163.5 MiB [] 94% 0.1s\u001b[0K\u001b[1G163.5 MiB [] 95% 0.1s\u001b[0K\u001b[1G163.5 MiB [] 96% 0.1s\u001b[0K\u001b[1G163.5 MiB [] 97% 0.1s\u001b[0K\u001b[1G163.5 MiB [] 97% 0.0s\u001b[0K\u001b[1G163.5 MiB [] 98% 0.0s\u001b[0K\u001b[1G163.5 MiB [] 99% 0.0s\u001b[0K\u001b[1G163.5 MiB [] 100% 0.0s\u001b[0K\n",
            "Chromium 133.0.6943.16 (playwright build v1155) downloaded to /root/.cache/ms-playwright/chromium-1155\n",
            "Downloading Chromium Headless Shell 133.0.6943.16 (playwright build v1155)\u001b[2m from https://cdn.playwright.dev/dbazure/download/playwright/builds/chromium/1155/chromium-headless-shell-linux.zip\u001b[22m\n",
            "\u001b[1G99.9 MiB [] 0% 0.0s\u001b[0K\u001b[1G99.9 MiB [] 0% 11.2s\u001b[0K\u001b[1G99.9 MiB [] 0% 5.9s\u001b[0K\u001b[1G99.9 MiB [] 1% 4.1s\u001b[0K\u001b[1G99.9 MiB [] 1% 3.8s\u001b[0K\u001b[1G99.9 MiB [] 2% 4.3s\u001b[0K\u001b[1G99.9 MiB [] 2% 4.2s\u001b[0K\u001b[1G99.9 MiB [] 3% 4.1s\u001b[0K\u001b[1G99.9 MiB [] 3% 3.9s\u001b[0K\u001b[1G99.9 MiB [] 3% 4.2s\u001b[0K\u001b[1G99.9 MiB [] 4% 4.4s\u001b[0K\u001b[1G99.9 MiB [] 4% 4.1s\u001b[0K\u001b[1G99.9 MiB [] 5% 3.7s\u001b[0K\u001b[1G99.9 MiB [] 6% 3.3s\u001b[0K\u001b[1G99.9 MiB [] 7% 3.2s\u001b[0K\u001b[1G99.9 MiB [] 7% 3.1s\u001b[0K\u001b[1G99.9 MiB [] 8% 3.0s\u001b[0K\u001b[1G99.9 MiB [] 9% 2.9s\u001b[0K\u001b[1G99.9 MiB [] 10% 3.0s\u001b[0K\u001b[1G99.9 MiB [] 10% 3.2s\u001b[0K\u001b[1G99.9 MiB [] 11% 3.1s\u001b[0K\u001b[1G99.9 MiB [] 12% 2.9s\u001b[0K\u001b[1G99.9 MiB [] 13% 2.7s\u001b[0K\u001b[1G99.9 MiB [] 14% 2.5s\u001b[0K\u001b[1G99.9 MiB [] 15% 2.5s\u001b[0K\u001b[1G99.9 MiB [] 16% 2.4s\u001b[0K\u001b[1G99.9 MiB [] 18% 2.3s\u001b[0K\u001b[1G99.9 MiB [] 19% 2.3s\u001b[0K\u001b[1G99.9 MiB [] 20% 2.1s\u001b[0K\u001b[1G99.9 MiB [] 22% 2.0s\u001b[0K\u001b[1G99.9 MiB [] 23% 1.9s\u001b[0K\u001b[1G99.9 MiB [] 24% 1.9s\u001b[0K\u001b[1G99.9 MiB [] 25% 1.8s\u001b[0K\u001b[1G99.9 MiB [] 27% 1.7s\u001b[0K\u001b[1G99.9 MiB [] 28% 1.7s\u001b[0K\u001b[1G99.9 MiB [] 29% 1.6s\u001b[0K\u001b[1G99.9 MiB [] 30% 1.6s\u001b[0K\u001b[1G99.9 MiB [] 31% 1.5s\u001b[0K\u001b[1G99.9 MiB [] 32% 1.5s\u001b[0K\u001b[1G99.9 MiB [] 33% 1.4s\u001b[0K\u001b[1G99.9 MiB [] 35% 1.4s\u001b[0K\u001b[1G99.9 MiB [] 36% 1.3s\u001b[0K\u001b[1G99.9 MiB [] 37% 1.3s\u001b[0K\u001b[1G99.9 MiB [] 38% 1.3s\u001b[0K\u001b[1G99.9 MiB [] 40% 1.2s\u001b[0K\u001b[1G99.9 MiB [] 42% 1.2s\u001b[0K\u001b[1G99.9 MiB [] 43% 1.1s\u001b[0K\u001b[1G99.9 MiB [] 45% 1.1s\u001b[0K\u001b[1G99.9 MiB [] 46% 1.0s\u001b[0K\u001b[1G99.9 MiB [] 48% 1.0s\u001b[0K\u001b[1G99.9 MiB [] 49% 1.0s\u001b[0K\u001b[1G99.9 MiB [] 51% 0.9s\u001b[0K\u001b[1G99.9 MiB [] 53% 0.9s\u001b[0K\u001b[1G99.9 MiB [] 54% 0.8s\u001b[0K\u001b[1G99.9 MiB [] 56% 0.8s\u001b[0K\u001b[1G99.9 MiB [] 58% 0.8s\u001b[0K\u001b[1G99.9 MiB [] 59% 0.7s\u001b[0K\u001b[1G99.9 MiB [] 60% 0.7s\u001b[0K\u001b[1G99.9 MiB [] 61% 0.7s\u001b[0K\u001b[1G99.9 MiB [] 62% 0.7s\u001b[0K\u001b[1G99.9 MiB [] 63% 0.6s\u001b[0K\u001b[1G99.9 MiB [] 64% 0.6s\u001b[0K\u001b[1G99.9 MiB [] 66% 0.6s\u001b[0K\u001b[1G99.9 MiB [] 67% 0.6s\u001b[0K\u001b[1G99.9 MiB [] 68% 0.6s\u001b[0K\u001b[1G99.9 MiB [] 69% 0.5s\u001b[0K\u001b[1G99.9 MiB [] 70% 0.5s\u001b[0K\u001b[1G99.9 MiB [] 71% 0.5s\u001b[0K\u001b[1G99.9 MiB [] 72% 0.5s\u001b[0K\u001b[1G99.9 MiB [] 73% 0.5s\u001b[0K\u001b[1G99.9 MiB [] 74% 0.5s\u001b[0K\u001b[1G99.9 MiB [] 75% 0.4s\u001b[0K\u001b[1G99.9 MiB [] 76% 0.4s\u001b[0K\u001b[1G99.9 MiB [] 77% 0.4s\u001b[0K\u001b[1G99.9 MiB [] 78% 0.4s\u001b[0K\u001b[1G99.9 MiB [] 79% 0.4s\u001b[0K\u001b[1G99.9 MiB [] 80% 0.3s\u001b[0K\u001b[1G99.9 MiB [] 81% 0.3s\u001b[0K\u001b[1G99.9 MiB [] 82% 0.3s\u001b[0K\u001b[1G99.9 MiB [] 83% 0.3s\u001b[0K\u001b[1G99.9 MiB [] 84% 0.3s\u001b[0K\u001b[1G99.9 MiB [] 85% 0.3s\u001b[0K\u001b[1G99.9 MiB [] 86% 0.3s\u001b[0K\u001b[1G99.9 MiB [] 87% 0.2s\u001b[0K\u001b[1G99.9 MiB [] 88% 0.2s\u001b[0K\u001b[1G99.9 MiB [] 89% 0.2s\u001b[0K\u001b[1G99.9 MiB [] 90% 0.2s\u001b[0K\u001b[1G99.9 MiB [] 91% 0.1s\u001b[0K\u001b[1G99.9 MiB [] 92% 0.1s\u001b[0K\u001b[1G99.9 MiB [] 93% 0.1s\u001b[0K\u001b[1G99.9 MiB [] 94% 0.1s\u001b[0K\u001b[1G99.9 MiB [] 95% 0.1s\u001b[0K\u001b[1G99.9 MiB [] 96% 0.1s\u001b[0K\u001b[1G99.9 MiB [] 97% 0.0s\u001b[0K\u001b[1G99.9 MiB [] 98% 0.0s\u001b[0K\u001b[1G99.9 MiB [] 99% 0.0s\u001b[0K\u001b[1G99.9 MiB [] 100% 0.0s\u001b[0K\n",
            "Chromium Headless Shell 133.0.6943.16 (playwright build v1155) downloaded to /root/.cache/ms-playwright/chromium_headless_shell-1155\n",
            "Downloading Firefox 134.0 (playwright build v1471)\u001b[2m from https://cdn.playwright.dev/dbazure/download/playwright/builds/firefox/1471/firefox-ubuntu-22.04.zip\u001b[22m\n",
            "\u001b[1G88.7 MiB [] 0% 0.0s\u001b[0K\u001b[1G88.7 MiB [] 0% 13.3s\u001b[0K\u001b[1G88.7 MiB [] 0% 6.9s\u001b[0K\u001b[1G88.7 MiB [] 1% 3.2s\u001b[0K\u001b[1G88.7 MiB [] 2% 2.8s\u001b[0K\u001b[1G88.7 MiB [] 3% 2.4s\u001b[0K\u001b[1G88.7 MiB [] 4% 2.2s\u001b[0K\u001b[1G88.7 MiB [] 5% 2.1s\u001b[0K\u001b[1G88.7 MiB [] 6% 2.0s\u001b[0K\u001b[1G88.7 MiB [] 7% 1.9s\u001b[0K\u001b[1G88.7 MiB [] 8% 1.9s\u001b[0K\u001b[1G88.7 MiB [] 9% 1.8s\u001b[0K\u001b[1G88.7 MiB [] 10% 1.7s\u001b[0K\u001b[1G88.7 MiB [] 11% 1.7s\u001b[0K\u001b[1G88.7 MiB [] 11% 1.9s\u001b[0K\u001b[1G88.7 MiB [] 12% 2.1s\u001b[0K\u001b[1G88.7 MiB [] 13% 2.1s\u001b[0K\u001b[1G88.7 MiB [] 13% 2.2s\u001b[0K\u001b[1G88.7 MiB [] 14% 2.2s\u001b[0K\u001b[1G88.7 MiB [] 15% 2.3s\u001b[0K\u001b[1G88.7 MiB [] 16% 2.2s\u001b[0K\u001b[1G88.7 MiB [] 17% 2.2s\u001b[0K\u001b[1G88.7 MiB [] 18% 2.1s\u001b[0K\u001b[1G88.7 MiB [] 19% 2.0s\u001b[0K\u001b[1G88.7 MiB [] 19% 2.1s\u001b[0K\u001b[1G88.7 MiB [] 19% 2.3s\u001b[0K\u001b[1G88.7 MiB [] 19% 2.7s\u001b[0K\u001b[1G88.7 MiB [] 20% 2.9s\u001b[0K\u001b[1G88.7 MiB [] 20% 3.3s\u001b[0K\u001b[1G88.7 MiB [] 20% 3.5s\u001b[0K\u001b[1G88.7 MiB [] 21% 3.4s\u001b[0K\u001b[1G88.7 MiB [] 22% 3.2s\u001b[0K\u001b[1G88.7 MiB [] 23% 3.1s\u001b[0K\u001b[1G88.7 MiB [] 25% 2.9s\u001b[0K\u001b[1G88.7 MiB [] 26% 2.8s\u001b[0K\u001b[1G88.7 MiB [] 27% 2.6s\u001b[0K\u001b[1G88.7 MiB [] 29% 2.5s\u001b[0K\u001b[1G88.7 MiB [] 30% 2.4s\u001b[0K\u001b[1G88.7 MiB [] 31% 2.3s\u001b[0K\u001b[1G88.7 MiB [] 32% 2.2s\u001b[0K\u001b[1G88.7 MiB [] 33% 2.1s\u001b[0K\u001b[1G88.7 MiB [] 34% 2.1s\u001b[0K\u001b[1G88.7 MiB [] 36% 2.0s\u001b[0K\u001b[1G88.7 MiB [] 37% 1.9s\u001b[0K\u001b[1G88.7 MiB [] 38% 1.8s\u001b[0K\u001b[1G88.7 MiB [] 40% 1.8s\u001b[0K\u001b[1G88.7 MiB [] 41% 1.7s\u001b[0K\u001b[1G88.7 MiB [] 42% 1.6s\u001b[0K\u001b[1G88.7 MiB [] 43% 1.6s\u001b[0K\u001b[1G88.7 MiB [] 44% 1.6s\u001b[0K\u001b[1G88.7 MiB [] 45% 1.5s\u001b[0K\u001b[1G88.7 MiB [] 46% 1.5s\u001b[0K\u001b[1G88.7 MiB [] 47% 1.5s\u001b[0K\u001b[1G88.7 MiB [] 49% 1.4s\u001b[0K\u001b[1G88.7 MiB [] 50% 1.4s\u001b[0K\u001b[1G88.7 MiB [] 50% 1.3s\u001b[0K\u001b[1G88.7 MiB [] 51% 1.3s\u001b[0K\u001b[1G88.7 MiB [] 52% 1.3s\u001b[0K\u001b[1G88.7 MiB [] 53% 1.2s\u001b[0K\u001b[1G88.7 MiB [] 55% 1.2s\u001b[0K\u001b[1G88.7 MiB [] 56% 1.1s\u001b[0K\u001b[1G88.7 MiB [] 57% 1.1s\u001b[0K\u001b[1G88.7 MiB [] 59% 1.0s\u001b[0K\u001b[1G88.7 MiB [] 60% 1.0s\u001b[0K\u001b[1G88.7 MiB [] 61% 1.0s\u001b[0K\u001b[1G88.7 MiB [] 62% 0.9s\u001b[0K\u001b[1G88.7 MiB [] 64% 0.9s\u001b[0K\u001b[1G88.7 MiB [] 65% 0.9s\u001b[0K\u001b[1G88.7 MiB [] 66% 0.8s\u001b[0K\u001b[1G88.7 MiB [] 67% 0.8s\u001b[0K\u001b[1G88.7 MiB [] 68% 0.8s\u001b[0K\u001b[1G88.7 MiB [] 69% 0.7s\u001b[0K\u001b[1G88.7 MiB [] 70% 0.7s\u001b[0K\u001b[1G88.7 MiB [] 71% 0.7s\u001b[0K\u001b[1G88.7 MiB [] 72% 0.6s\u001b[0K\u001b[1G88.7 MiB [] 73% 0.6s\u001b[0K\u001b[1G88.7 MiB [] 74% 0.6s\u001b[0K\u001b[1G88.7 MiB [] 75% 0.6s\u001b[0K\u001b[1G88.7 MiB [] 76% 0.5s\u001b[0K\u001b[1G88.7 MiB [] 77% 0.5s\u001b[0K\u001b[1G88.7 MiB [] 78% 0.5s\u001b[0K\u001b[1G88.7 MiB [] 79% 0.5s\u001b[0K\u001b[1G88.7 MiB [] 81% 0.4s\u001b[0K\u001b[1G88.7 MiB [] 82% 0.4s\u001b[0K\u001b[1G88.7 MiB [] 83% 0.4s\u001b[0K\u001b[1G88.7 MiB [] 84% 0.4s\u001b[0K\u001b[1G88.7 MiB [] 85% 0.3s\u001b[0K\u001b[1G88.7 MiB [] 86% 0.3s\u001b[0K\u001b[1G88.7 MiB [] 88% 0.3s\u001b[0K\u001b[1G88.7 MiB [] 89% 0.2s\u001b[0K\u001b[1G88.7 MiB [] 91% 0.2s\u001b[0K\u001b[1G88.7 MiB [] 92% 0.2s\u001b[0K\u001b[1G88.7 MiB [] 94% 0.1s\u001b[0K\u001b[1G88.7 MiB [] 96% 0.1s\u001b[0K\u001b[1G88.7 MiB [] 97% 0.1s\u001b[0K\u001b[1G88.7 MiB [] 98% 0.0s\u001b[0K\u001b[1G88.7 MiB [] 99% 0.0s\u001b[0K\u001b[1G88.7 MiB [] 100% 0.0s\u001b[0K\n",
            "Firefox 134.0 (playwright build v1471) downloaded to /root/.cache/ms-playwright/firefox-1471\n",
            "Downloading Webkit 18.2 (playwright build v2123)\u001b[2m from https://cdn.playwright.dev/dbazure/download/playwright/builds/webkit/2123/webkit-ubuntu-22.04.zip\u001b[22m\n",
            "\u001b[1G89.2 MiB [] 0% 0.0s\u001b[0K\u001b[1G89.2 MiB [] 0% 19.7s\u001b[0K\u001b[1G89.2 MiB [] 0% 8.6s\u001b[0K\u001b[1G89.2 MiB [] 1% 4.0s\u001b[0K\u001b[1G89.2 MiB [] 2% 2.5s\u001b[0K\u001b[1G89.2 MiB [] 4% 2.0s\u001b[0K\u001b[1G89.2 MiB [] 5% 1.6s\u001b[0K\u001b[1G89.2 MiB [] 7% 1.4s\u001b[0K\u001b[1G89.2 MiB [] 9% 1.3s\u001b[0K\u001b[1G89.2 MiB [] 11% 1.3s\u001b[0K\u001b[1G89.2 MiB [] 12% 1.2s\u001b[0K\u001b[1G89.2 MiB [] 13% 1.2s\u001b[0K\u001b[1G89.2 MiB [] 15% 1.1s\u001b[0K\u001b[1G89.2 MiB [] 16% 1.1s\u001b[0K\u001b[1G89.2 MiB [] 18% 1.1s\u001b[0K\u001b[1G89.2 MiB [] 20% 1.0s\u001b[0K\u001b[1G89.2 MiB [] 21% 1.0s\u001b[0K\u001b[1G89.2 MiB [] 23% 1.0s\u001b[0K\u001b[1G89.2 MiB [] 24% 0.9s\u001b[0K\u001b[1G89.2 MiB [] 27% 0.9s\u001b[0K\u001b[1G89.2 MiB [] 29% 0.8s\u001b[0K\u001b[1G89.2 MiB [] 31% 0.8s\u001b[0K\u001b[1G89.2 MiB [] 34% 0.7s\u001b[0K\u001b[1G89.2 MiB [] 36% 0.7s\u001b[0K\u001b[1G89.2 MiB [] 38% 0.7s\u001b[0K\u001b[1G89.2 MiB [] 39% 0.7s\u001b[0K\u001b[1G89.2 MiB [] 41% 0.6s\u001b[0K\u001b[1G89.2 MiB [] 42% 0.6s\u001b[0K\u001b[1G89.2 MiB [] 43% 0.6s\u001b[0K\u001b[1G89.2 MiB [] 43% 0.7s\u001b[0K\u001b[1G89.2 MiB [] 44% 0.7s\u001b[0K\u001b[1G89.2 MiB [] 45% 0.6s\u001b[0K\u001b[1G89.2 MiB [] 47% 0.6s\u001b[0K\u001b[1G89.2 MiB [] 48% 0.6s\u001b[0K\u001b[1G89.2 MiB [] 49% 0.6s\u001b[0K\u001b[1G89.2 MiB [] 50% 0.6s\u001b[0K\u001b[1G89.2 MiB [] 51% 0.6s\u001b[0K\u001b[1G89.2 MiB [] 52% 0.6s\u001b[0K\u001b[1G89.2 MiB [] 53% 0.6s\u001b[0K\u001b[1G89.2 MiB [] 54% 0.6s\u001b[0K\u001b[1G89.2 MiB [] 55% 0.6s\u001b[0K\u001b[1G89.2 MiB [] 56% 0.5s\u001b[0K\u001b[1G89.2 MiB [] 57% 0.5s\u001b[0K\u001b[1G89.2 MiB [] 58% 0.5s\u001b[0K\u001b[1G89.2 MiB [] 60% 0.5s\u001b[0K\u001b[1G89.2 MiB [] 62% 0.5s\u001b[0K\u001b[1G89.2 MiB [] 64% 0.4s\u001b[0K\u001b[1G89.2 MiB [] 66% 0.4s\u001b[0K\u001b[1G89.2 MiB [] 67% 0.4s\u001b[0K\u001b[1G89.2 MiB [] 69% 0.4s\u001b[0K\u001b[1G89.2 MiB [] 71% 0.3s\u001b[0K\u001b[1G89.2 MiB [] 72% 0.3s\u001b[0K\u001b[1G89.2 MiB [] 73% 0.3s\u001b[0K\u001b[1G89.2 MiB [] 75% 0.3s\u001b[0K\u001b[1G89.2 MiB [] 77% 0.3s\u001b[0K\u001b[1G89.2 MiB [] 79% 0.2s\u001b[0K\u001b[1G89.2 MiB [] 80% 0.2s\u001b[0K\u001b[1G89.2 MiB [] 82% 0.2s\u001b[0K\u001b[1G89.2 MiB [] 83% 0.2s\u001b[0K\u001b[1G89.2 MiB [] 84% 0.2s\u001b[0K\u001b[1G89.2 MiB [] 86% 0.2s\u001b[0K\u001b[1G89.2 MiB [] 88% 0.1s\u001b[0K\u001b[1G89.2 MiB [] 89% 0.1s\u001b[0K\u001b[1G89.2 MiB [] 90% 0.1s\u001b[0K\u001b[1G89.2 MiB [] 92% 0.1s\u001b[0K\u001b[1G89.2 MiB [] 94% 0.1s\u001b[0K\u001b[1G89.2 MiB [] 96% 0.0s\u001b[0K\u001b[1G89.2 MiB [] 98% 0.0s\u001b[0K\u001b[1G89.2 MiB [] 100% 0.0s\u001b[0K\n",
            "Webkit 18.2 (playwright build v2123) downloaded to /root/.cache/ms-playwright/webkit-2123\n",
            "Downloading FFMPEG playwright build v1011\u001b[2m from https://cdn.playwright.dev/dbazure/download/playwright/builds/ffmpeg/1011/ffmpeg-linux.zip\u001b[22m\n",
            "\u001b[1G2.3 MiB [] 0% 0.0s\u001b[0K\u001b[1G2.3 MiB [] 5% 0.4s\u001b[0K\u001b[1G2.3 MiB [] 25% 0.1s\u001b[0K\u001b[1G2.3 MiB [] 77% 0.0s\u001b[0K\u001b[1G2.3 MiB [] 100% 0.0s\u001b[0K\n",
            "FFMPEG playwright build v1011 downloaded to /root/.cache/ms-playwright/ffmpeg-1011\n",
            "Playwright Host validation warning: \n",
            "╔══════════════════════════════════════════════════════╗\n",
            "║ Host system is missing dependencies to run browsers. ║\n",
            "║ Missing libraries:                                   ║\n",
            "║     libgtk-4.so.1                                    ║\n",
            "║     libgraphene-1.0.so.0                             ║\n",
            "║     libwoff2dec.so.1.0.2                             ║\n",
            "║     libgstgl-1.0.so.0                                ║\n",
            "║     libgstcodecparsers-1.0.so.0                      ║\n",
            "║     libavif.so.13                                    ║\n",
            "║     libharfbuzz-icu.so.0                             ║\n",
            "║     libenchant-2.so.2                                ║\n",
            "║     libsecret-1.so.0                                 ║\n",
            "║     libhyphen.so.0                                   ║\n",
            "║     libmanette-0.2.so.0                              ║\n",
            "╚══════════════════════════════════════════════════════╝\n",
            "    at validateDependenciesLinux (/usr/local/lib/python3.11/dist-packages/playwright/driver/package/lib/server/registry/dependencies.js:216:9)\n",
            "\u001b[90m    at process.processTicksAndRejections (node:internal/process/task_queues:105:5)\u001b[39m\n",
            "    at async Registry._validateHostRequirements (/usr/local/lib/python3.11/dist-packages/playwright/driver/package/lib/server/registry/index.js:865:43)\n",
            "    at async Registry._validateHostRequirementsForExecutableIfNeeded (/usr/local/lib/python3.11/dist-packages/playwright/driver/package/lib/server/registry/index.js:963:7)\n",
            "    at async Registry.validateHostRequirementsForExecutablesIfNeeded (/usr/local/lib/python3.11/dist-packages/playwright/driver/package/lib/server/registry/index.js:952:43)\n",
            "    at async t.<anonymous> (/usr/local/lib/python3.11/dist-packages/playwright/driver/package/lib/cli/program.js:122:7)\n"
          ]
        }
      ]
    },
    {
      "cell_type": "code",
      "source": [
        "!pip install playwright pyppeteer scikit-learn openai numpy networkx"
      ],
      "metadata": {
        "colab": {
          "base_uri": "https://localhost:8080/"
        },
        "id": "zYnwxD6H2XiW",
        "outputId": "caaa82db-cdda-4cfe-991c-5b4346ebddeb"
      },
      "execution_count": 8,
      "outputs": [
        {
          "output_type": "stream",
          "name": "stdout",
          "text": [
            "Requirement already satisfied: playwright in /usr/local/lib/python3.11/dist-packages (1.50.0)\n",
            "Requirement already satisfied: pyppeteer in /usr/local/lib/python3.11/dist-packages (0.0.25)\n",
            "Requirement already satisfied: scikit-learn in /usr/local/lib/python3.11/dist-packages (1.6.1)\n",
            "Requirement already satisfied: openai in /usr/local/lib/python3.11/dist-packages (1.61.1)\n",
            "Requirement already satisfied: numpy in /usr/local/lib/python3.11/dist-packages (1.26.4)\n",
            "Requirement already satisfied: networkx in /usr/local/lib/python3.11/dist-packages (3.4.2)\n",
            "Requirement already satisfied: pyee<13,>=12 in /usr/local/lib/python3.11/dist-packages (from playwright) (12.1.1)\n",
            "Requirement already satisfied: greenlet<4.0.0,>=3.1.1 in /usr/local/lib/python3.11/dist-packages (from playwright) (3.1.1)\n",
            "Requirement already satisfied: websockets in /usr/local/lib/python3.11/dist-packages (from pyppeteer) (10.3)\n",
            "Requirement already satisfied: appdirs in /usr/local/lib/python3.11/dist-packages (from pyppeteer) (1.4.4)\n",
            "Requirement already satisfied: urllib3 in /usr/local/lib/python3.11/dist-packages (from pyppeteer) (1.26.20)\n",
            "Requirement already satisfied: tqdm in /usr/local/lib/python3.11/dist-packages (from pyppeteer) (4.67.1)\n",
            "Requirement already satisfied: scipy>=1.6.0 in /usr/local/lib/python3.11/dist-packages (from scikit-learn) (1.13.1)\n",
            "Requirement already satisfied: joblib>=1.2.0 in /usr/local/lib/python3.11/dist-packages (from scikit-learn) (1.4.2)\n",
            "Requirement already satisfied: threadpoolctl>=3.1.0 in /usr/local/lib/python3.11/dist-packages (from scikit-learn) (3.5.0)\n",
            "Requirement already satisfied: anyio<5,>=3.5.0 in /usr/local/lib/python3.11/dist-packages (from openai) (3.7.1)\n",
            "Requirement already satisfied: distro<2,>=1.7.0 in /usr/local/lib/python3.11/dist-packages (from openai) (1.9.0)\n",
            "Requirement already satisfied: httpx<1,>=0.23.0 in /usr/local/lib/python3.11/dist-packages (from openai) (0.28.1)\n",
            "Requirement already satisfied: jiter<1,>=0.4.0 in /usr/local/lib/python3.11/dist-packages (from openai) (0.8.2)\n",
            "Requirement already satisfied: pydantic<3,>=1.9.0 in /usr/local/lib/python3.11/dist-packages (from openai) (2.10.6)\n",
            "Requirement already satisfied: sniffio in /usr/local/lib/python3.11/dist-packages (from openai) (1.3.1)\n",
            "Requirement already satisfied: typing-extensions<5,>=4.11 in /usr/local/lib/python3.11/dist-packages (from openai) (4.12.2)\n",
            "Requirement already satisfied: idna>=2.8 in /usr/local/lib/python3.11/dist-packages (from anyio<5,>=3.5.0->openai) (3.10)\n",
            "Requirement already satisfied: certifi in /usr/local/lib/python3.11/dist-packages (from httpx<1,>=0.23.0->openai) (2025.1.31)\n",
            "Requirement already satisfied: httpcore==1.* in /usr/local/lib/python3.11/dist-packages (from httpx<1,>=0.23.0->openai) (1.0.7)\n",
            "Requirement already satisfied: h11<0.15,>=0.13 in /usr/local/lib/python3.11/dist-packages (from httpcore==1.*->httpx<1,>=0.23.0->openai) (0.14.0)\n",
            "Requirement already satisfied: annotated-types>=0.6.0 in /usr/local/lib/python3.11/dist-packages (from pydantic<3,>=1.9.0->openai) (0.7.0)\n",
            "Requirement already satisfied: pydantic-core==2.27.2 in /usr/local/lib/python3.11/dist-packages (from pydantic<3,>=1.9.0->openai) (2.27.2)\n"
          ]
        }
      ]
    },
    {
      "cell_type": "code",
      "source": [
        "from transformers import BertTokenizer, BertModel\n",
        "import torch\n",
        "from bs4 import BeautifulSoup\n",
        "from playwright.async_api import async_playwright\n",
        "\n",
        "# Initialize Hugging Face tokenizer and model\n",
        "tokenizer = BertTokenizer.from_pretrained('bert-base-uncased')\n",
        "model = BertModel.from_pretrained('bert-base-uncased')\n",
        "\n",
        "# Function to generate embeddings using Hugging Face BERT\n",
        "def get_huggingface_embedding(text):\n",
        "    inputs = tokenizer(text, return_tensors=\"pt\", truncation=True, padding=True, max_length=512)\n",
        "    with torch.no_grad():  # Disable gradients to speed up inference\n",
        "        outputs = model(**inputs)\n",
        "    return outputs.last_hidden_state.mean(dim=1).detach().numpy()\n",
        "\n",
        "# Function to crawl the website using Playwright\n",
        "async def crawl_website(url):\n",
        "    async with async_playwright() as p:\n",
        "        browser = await p.chromium.launch(headless=True)\n",
        "        page = await browser.new_page()\n",
        "\n",
        "        # Visit the website\n",
        "        await page.goto(url)\n",
        "\n",
        "        # Get the page content (HTML)\n",
        "        content = await page.content()\n",
        "\n",
        "        # Close the browser\n",
        "        await browser.close()\n",
        "\n",
        "    return content\n",
        "\n",
        "# Function to extract required details from HTML content\n",
        "def extract_details(content):\n",
        "    soup = BeautifulSoup(content, 'html.parser')\n",
        "\n",
        "    # Extracting meta description\n",
        "    meta_desc = soup.find('meta', attrs={'name': 'description'}) or soup.find('meta', attrs={'property': 'og:description'})\n",
        "    meta_desc = meta_desc['content'] if meta_desc else \"No description found\"\n",
        "\n",
        "    # Extracting headings (h1, h2, h3...)\n",
        "    headings = [h.get_text() for h in soup.find_all(['h1', 'h2', 'h3', 'h4', 'h5', 'h6'])]\n",
        "\n",
        "    # Extracting internal links\n",
        "    internal_links = [a['href'] for a in soup.find_all('a', href=True) if 'http' not in a['href']]\n",
        "\n",
        "    # Extracting page content (excluding scripts and styles)\n",
        "    page_content = ' '.join([p.get_text() for p in soup.find_all('p')])\n",
        "\n",
        "    return meta_desc, headings, internal_links, page_content\n",
        "\n",
        "# Main function to run the whole process\n",
        "async def main(url):\n",
        "    # Step 1: Crawl the website\n",
        "    content = await crawl_website(url)\n",
        "\n",
        "    # Step 2: Extract details\n",
        "    meta_desc, headings, internal_links, page_content = extract_details(content)\n",
        "\n",
        "    # Step 3: Generate embeddings using Hugging Face (without API key)\n",
        "    huggingface_embedding = get_huggingface_embedding(page_content)\n",
        "\n",
        "    # Step 4: Print extracted and processed data\n",
        "    print(\"Meta Description: \", meta_desc)\n",
        "    print(\"\\nHeadings: \", headings)\n",
        "    print(\"\\nInternal Links: \", internal_links[:5])  # Displaying first 5 internal links\n",
        "    print(\"\\nPage Content (first 500 chars): \", page_content[:500])\n",
        "    print(\"\\nHuggingFace Embedding: \", huggingface_embedding[:5])  # Display first 5 elements of embedding\n",
        "\n",
        "# Example URL to test the function\n",
        "url = 'https://ahrefs.com/blog/content-marketing/'\n",
        "\n",
        "# Run the main function asynchronously\n",
        "await main(url)\n"
      ],
      "metadata": {
        "colab": {
          "base_uri": "https://localhost:8080/"
        },
        "id": "FV_H1gQR5nBl",
        "outputId": "811f6d7a-2cd7-4d02-c196-00b01dc89df9"
      },
      "execution_count": 20,
      "outputs": [
        {
          "output_type": "stream",
          "name": "stdout",
          "text": [
            "Meta Description:  Content marketing helps you attract, engage, convert, and retain customers you may not reach otherwise. Learn how to get started here.\n",
            "\n",
            "Headings:  ['Content Marketing: A Comprehensive Guide', 'What is content marketing?', 'Why is content marketing important?', '1. Content marketing helps you create awareness and attract potential customers', '2. Content marketing helps you engage your audience and build credibility', '3. Content marketing helps you convert customers', '4. Content marketing helps you build loyalty and retention', '5. Content marketing has compounding returns (and it’s cheap in the long-term)', '3 common objections to content marketing, and how to\\xa0reply', '1. Paid advertising attracts more traffic and customers, faster', '2. It takes too long to see results', '3. The ROI is difficult to measure', 'Types of content marketing\\xa0', '1. Find topics that are relevant to your business', '2. Create the right type of content', '3. Promote your content', '5 content marketing examples you can learn\\xa0from', '1. Fix.com’s YouTube videos', '2. Naturalicious’ Facebook community', '3. 15Five’s podcast', '4. Mattel’s virtual playroom and activity sheets', '5. Balsamiq’s academy courses', '15 expert content marketing tips you can use this\\xa0year', 'Research and talk to your customers', 'Repurpose your content', 'Focus your efforts on people who need you, but don’t know it\\xa0yet', 'Test and iterate the formats that work best for your\\xa0goals', 'Appeal to your audience’s core values', 'Lean into micro-form', 'Don’t jump straight into tactics', 'Optimize the content you already have', 'Take a holistic approach', 'Create product-focused content', 'Advice for content writers: act like a journalist', 'Tell your story consistently', 'Build empathy for your audience', 'Create radically different content', 'Take risks', 'Keep learning']\n",
            "\n",
            "Internal Links:  ['#', '#', '#', '#', '/']\n",
            "\n",
            "Page Content (first 500 chars):  The number of websites linking to this post. This post's estimated monthly organic search traffic.   This guide helps you understand what content marketing is, how to explain its benefits to your marketing peers, and how to get started. We also included ideas and advice from 15 content marketing experts to give you the best head start for 2021 and beyond. We cover: Content marketing is the process of creating and distributing content to attract and retain customers, so you can increase revenue a\n",
            "\n",
            "HuggingFace Embedding:  [[ 4.36674617e-02  1.79731667e-01  4.96869624e-01  1.57111473e-02\n",
            "   3.46082926e-01 -1.14414379e-01  8.79737511e-02  4.65315014e-01\n",
            "  -2.50747744e-02 -2.57300347e-01  1.89229660e-02 -2.67082483e-01\n",
            "  -4.83925976e-02  2.36656606e-01 -4.24874872e-02  3.70994866e-01\n",
            "   2.26109207e-01  1.42496601e-01 -1.65076762e-01  3.91649842e-01\n",
            "   1.47955209e-01 -5.11389226e-03  1.16228491e-01  5.23509264e-01\n",
            "   5.85519075e-01 -1.09209701e-01  2.90425718e-02 -2.26810932e-01\n",
            "  -2.39383727e-01 -2.35396117e-01  5.10434508e-01  6.35112524e-02\n",
            "  -8.59837085e-02 -3.14547896e-01 -5.35849333e-02 -3.19687985e-02\n",
            "  -1.71947926e-02 -2.42457628e-01  1.96964554e-02  1.15473717e-01\n",
            "  -6.02786362e-01 -1.32338315e-01 -1.25547200e-01  9.36345160e-02\n",
            "  -2.97096372e-01 -2.70858020e-01  1.26287043e-01  3.69700268e-02\n",
            "   1.84108853e-01 -4.19225544e-03 -5.02114773e-01  3.37659538e-01\n",
            "  -1.14207901e-01 -5.35632148e-02  2.22321063e-01  5.56588471e-01\n",
            "   8.88046175e-02 -3.45153123e-01 -6.36609375e-01 -2.27903545e-01\n",
            "   7.55799860e-02 -6.72010332e-02  5.71939982e-02 -4.36803341e-01\n",
            "   2.18814433e-01  1.09487601e-01  5.33897206e-02  3.81212533e-01\n",
            "  -7.51684368e-01 -1.10249028e-01 -2.33611375e-01 -2.35568404e-01\n",
            "  -2.38526851e-01 -1.81661204e-01 -1.66721359e-01  2.50256598e-01\n",
            "  -8.75090435e-02  3.22276115e-01  7.06601664e-02 -6.46855310e-02\n",
            "  -3.78275633e-01  4.07664001e-01 -2.84066260e-01  3.38830411e-01\n",
            "   1.45683110e-01  1.12539351e-01  1.41814753e-01  2.89432406e-01\n",
            "  -2.26739660e-01  5.35597920e-01 -1.01112574e-02 -4.02727395e-01\n",
            "   3.98941040e-01  8.81261602e-02  3.93168837e-01 -1.42319322e-01\n",
            "   3.93431276e-01  1.18415609e-01 -3.17476302e-01  3.57927740e-01\n",
            "   2.74074376e-01 -4.26041126e-01  1.84399322e-01 -7.19104409e-02\n",
            "   8.86768177e-02  8.40049237e-03  1.46603927e-01  5.44808134e-02\n",
            "  -2.50878692e-01  3.93423110e-01  8.84655416e-02 -7.49985799e-02\n",
            "  -1.86659247e-01 -2.75026023e-01 -1.45711936e-04  2.52675768e-02\n",
            "  -2.70250160e-03  2.19297092e-02  2.22727321e-02  2.42651477e-01\n",
            "   1.59579128e-01  3.22648836e-03  2.00451195e-01  4.66250420e-01\n",
            "  -1.28303707e-01  4.55388688e-02 -1.83932871e-01  2.88033932e-01\n",
            "  -1.81390271e-02 -2.22972572e-01  3.69195819e-01  1.94917768e-01\n",
            "   1.03254884e-01 -2.19610557e-01 -2.61850417e-01  2.07123339e-01\n",
            "   4.73382175e-02 -1.21371195e-01 -1.61849469e-01  1.69712305e-01\n",
            "   2.23518461e-01 -2.04020366e-01  5.14607608e-01  9.20014679e-02\n",
            "   1.74147621e-01 -1.74010247e-02 -5.68348020e-02 -3.31090391e-01\n",
            "  -8.00990388e-02  2.36030370e-01  1.50289625e-01  1.36030614e-01\n",
            "  -2.13318646e-01 -2.01348186e-01 -7.84449205e-02 -4.69780900e-02\n",
            "  -4.57889348e-01 -1.24327587e-02 -4.06581797e-02 -1.09689459e-02\n",
            "   3.00424874e-01 -5.95169365e-02 -2.63727248e-01  2.32236326e-01\n",
            "  -9.26203281e-02  6.92090169e-02  1.15046501e-01  4.08084512e-01\n",
            "  -2.17943355e-01  1.79478973e-01 -1.64578110e-01  2.01696474e-02\n",
            "   7.09778190e-01  6.95396885e-02  3.02734673e-01  1.26693502e-01\n",
            "   2.99682915e-01  8.60179663e-02  2.65766650e-01  1.89934462e-01\n",
            "  -7.34418035e-01  4.00243819e-01  1.29913408e-02 -2.90217876e-01\n",
            "   2.68302057e-02 -2.90571034e-01  2.79269636e-01 -2.00459793e-01\n",
            "   1.39455929e-01 -1.81565434e-01 -2.95165032e-01 -3.13430816e-01\n",
            "  -2.39242896e-01 -1.77330911e-01  3.58089685e-01 -3.34967375e-01\n",
            "  -3.96195017e-02  1.88971281e-01 -4.20638740e-01 -1.42500207e-01\n",
            "   3.08340490e-02  8.46024603e-02  2.31496215e-01  9.64554250e-02\n",
            "  -2.35086888e-01 -5.88613331e-01  7.52727836e-02 -2.74577558e-01\n",
            "  -1.49942517e-01  3.73813622e-02 -3.93766582e-01  4.01338011e-01\n",
            "   8.21532980e-02 -5.88237047e-02 -9.86344814e-02  2.26844549e-01\n",
            "  -6.86239600e-02  7.31107779e-03 -1.99476331e-02 -1.12354405e-01\n",
            "   1.56862885e-01  1.75342590e-01 -4.77340162e-01  3.93260837e-01\n",
            "  -2.08651125e-01  6.17567062e-01  1.17995009e-01 -6.48796558e-01\n",
            "   2.91994095e-01  3.81122559e-01  8.90475437e-02 -1.32400356e-02\n",
            "   5.56113124e-01 -2.37538457e-01 -1.23596951e-01 -1.02937415e-01\n",
            "  -3.10776353e-01 -3.80847454e-01 -3.14497948e-02 -2.49886483e-01\n",
            "  -1.56811476e-01  4.47799921e-01  1.41746588e-02  2.00301707e-01\n",
            "   7.95506239e-02 -1.65905148e-01 -1.16442852e-02  2.55961902e-03\n",
            "  -1.28593698e-01 -2.09725916e-01 -5.02570868e-01 -2.87092268e-01\n",
            "  -1.37918189e-01 -3.70414972e-01  3.03793736e-02 -2.82314181e-01\n",
            "  -2.90140867e-01 -2.95333892e-01 -7.19758570e-02  1.57793403e-01\n",
            "   2.79881716e-01  9.66406390e-02 -8.39965492e-02  1.97321266e-01\n",
            "  -3.60723823e-01 -5.97113729e-01  2.54388805e-03  2.65657902e-01\n",
            "   2.76387274e-01  2.75944918e-01  1.24571279e-01 -8.93004239e-02\n",
            "   1.04893863e-01  6.12840712e-01 -1.68830067e-01 -2.28432000e-01\n",
            "   3.01626384e-01  1.74240172e-01  1.13551617e-01 -2.53284037e-01\n",
            "   1.28199589e-02  3.44920099e-01 -2.25653529e-01 -1.64270960e-02\n",
            "   4.24748920e-02 -2.47330338e-01  3.55492741e-01  1.08397618e-01\n",
            "  -2.89738953e-01 -1.26803890e-01 -1.14774160e-01  5.67159131e-02\n",
            "  -3.59043300e-01 -2.47687370e-01  5.46603918e-01  1.57984212e-01\n",
            "   2.70483166e-01  1.77817166e-01  1.35679096e-01 -7.43486434e-02\n",
            "  -4.13346812e-02 -4.57329988e-01  2.61273444e-01  1.30508244e-01\n",
            "  -9.54233184e-02  7.15332031e-02  7.85283446e-02 -4.87083018e-01\n",
            "  -3.63845325e+00 -1.35394245e-01  2.10504889e-01 -3.60431910e-01\n",
            "   4.58798707e-02 -1.99716955e-01 -3.74132842e-02 -1.32334232e-01\n",
            "  -2.09044546e-01  2.24902511e-01 -8.45711604e-02 -2.92984068e-01\n",
            "   4.35295142e-02  2.83593953e-01  1.34712327e-02  1.35958657e-01\n",
            "   2.10472912e-01 -3.42699848e-02 -3.56166661e-02  2.97123194e-01\n",
            "  -3.45986515e-01 -4.50748593e-01  2.24512026e-01  1.02205962e-01\n",
            "   2.93435514e-01  5.04100084e-01 -3.61064136e-01 -2.60719836e-01\n",
            "  -2.81897280e-02 -9.14935395e-02  1.80598512e-01 -2.03951329e-01\n",
            "  -1.21149063e-01  3.38168263e-01  1.18807822e-01 -3.07818986e-02\n",
            "   1.00399449e-01 -4.45122063e-01 -2.53384113e-01 -3.11434895e-01\n",
            "  -8.17058757e-02 -4.46458220e-01 -1.70883894e-01 -5.33706248e-02\n",
            "   8.03698421e-01 -3.08228791e-01  7.90725499e-02 -6.59582317e-02\n",
            "   1.42149180e-01  6.76395297e-02  1.37024447e-01  4.24130447e-02\n",
            "  -2.86094785e-01 -4.60333563e-02  4.40775566e-02 -1.34080291e-01\n",
            "   3.80026877e-01  2.64210463e-01 -1.67514980e-01 -1.36253148e-01\n",
            "   5.74493483e-02 -2.07720727e-01 -3.53162587e-01 -1.38827011e-01\n",
            "  -1.21512897e-01 -4.41668540e-01 -5.06632209e-01 -1.69565886e-01\n",
            "  -3.49496305e-02 -1.38391346e-01 -2.28538066e-01  6.85038209e-01\n",
            "  -3.81894916e-01 -2.51694083e-01  8.79535899e-02 -2.89468229e-01\n",
            "   2.20124960e-01 -6.26235381e-02 -3.23625207e-02 -5.33666974e-03\n",
            "  -2.90995032e-01 -3.09051663e-01 -2.64426738e-01 -6.86905310e-02\n",
            "  -1.52292252e-01 -5.87238729e-01  3.02303098e-02 -6.71412051e-02\n",
            "  -3.75881344e-01 -5.84390461e-01  4.31625098e-01  1.46081001e-01\n",
            "   1.83275700e-01  4.57796715e-02  2.59420931e-01 -5.71008921e-02\n",
            "   3.90845776e-01 -1.71913549e-01 -1.64922237e-01 -3.06999922e-01\n",
            "   2.56583363e-01  1.70025928e-03  4.12087739e-01 -2.15892032e-01\n",
            "   2.91824844e-02 -8.69592577e-02 -2.66206026e-01  6.20252863e-02\n",
            "   3.92327964e-01 -1.58113718e-01  4.56615631e-03 -1.61412537e-01\n",
            "  -4.61301813e-03 -1.90439582e-01 -2.50074267e-01  3.87683511e-03\n",
            "   9.01209749e-03  5.28496206e-01  6.83199465e-02 -2.48633862e-01\n",
            "  -8.50163698e-02  4.22174513e-01 -1.77977681e-01  1.63538046e-02\n",
            "  -2.46176690e-01 -1.11600563e-01 -1.88915700e-01  2.25492120e-01\n",
            "   9.85200629e-02  3.09722610e-02  4.57029268e-02 -1.35173604e-01\n",
            "  -1.28866345e-01  2.21262515e-01  2.74317145e-01 -2.04109251e-01\n",
            "   1.39346421e-01 -5.17449558e-01  4.75193262e-02  1.34748191e-01\n",
            "  -2.00507604e-02  3.19424063e-01 -3.19980551e-04 -1.11120753e-03\n",
            "  -5.19988723e-02  3.75236273e-01  2.93459836e-02  1.03660285e-01\n",
            "  -2.61745542e-01  1.10739060e-01 -6.43551648e-01 -2.45117426e-01\n",
            "  -3.28938544e-01 -4.55513775e-01  2.29720429e-01  2.15665057e-01\n",
            "   1.44609004e-01  1.34417787e-04 -8.01200122e-02 -5.79225063e-01\n",
            "   1.29990205e-01 -4.26894613e-03  2.61927903e-01  1.64577544e-01\n",
            "  -2.04812467e-01  3.42757165e-01 -9.99622345e-02  4.83531505e-04\n",
            "  -4.89416756e-02  5.60397953e-02 -5.78156933e-02 -1.64457142e-01\n",
            "  -1.01268943e-03 -3.91503572e-01 -1.13634750e-01  2.74381042e-01\n",
            "   2.32799277e-01 -1.78786159e-01 -2.23505616e-01  1.85422331e-01\n",
            "  -2.70313680e-01 -2.92213321e-01 -2.46878177e-01 -1.60108030e-01\n",
            "   2.98599720e-01  1.52407959e-01  3.64798039e-01 -3.25915873e-01\n",
            "  -1.48643777e-01  1.72739141e-02 -1.19121209e-01  3.19495052e-01\n",
            "  -1.04068525e-01 -6.47182316e-02 -2.12027282e-01 -1.88296095e-01\n",
            "   3.35109651e-01 -1.41845062e-01 -3.84121165e-02  1.10537559e-02\n",
            "   2.82193065e-01 -7.99516439e-02 -4.80579734e-01  1.43795177e-01\n",
            "   1.38046861e-01 -2.70054102e-01  9.24229994e-02  2.64418066e-01\n",
            "   2.20100991e-02  1.27548203e-01 -5.34462333e-01 -2.14866519e-01\n",
            "  -3.76297653e-01 -8.96352902e-02  8.32502171e-02 -5.95758080e-01\n",
            "  -1.67619869e-01 -2.03760117e-01 -2.50001818e-01  1.33828253e-01\n",
            "  -1.37222007e-01 -2.64934838e-01  9.44323279e-03  1.00314729e-02\n",
            "  -3.33126068e-01 -3.87209877e-02  1.53013179e-02  2.85557695e-02\n",
            "  -2.12553486e-01 -3.93090725e-01  3.07023585e-01 -8.86565208e-01\n",
            "   2.02234685e-01  1.91883102e-01 -1.66437954e-01  1.05782256e-01\n",
            "  -2.41008103e-01 -3.71634245e-01  1.46188110e-01 -2.15929210e-01\n",
            "  -3.38455498e-01 -4.14040871e-02 -2.31845200e-01 -2.65965104e-01\n",
            "   2.76986748e-01  6.24760799e-02 -2.12060049e-01  3.60562444e-01\n",
            "  -2.73438603e-01  2.89864451e-01 -8.82036090e-02  6.79569095e-02\n",
            "  -1.00785479e-01 -4.49891314e-02  7.74318650e-02 -3.28120679e-01\n",
            "  -6.13829017e-01  4.92099561e-02 -2.42466301e-01 -4.75303829e-02\n",
            "   1.20892143e-02 -1.82316154e-01 -4.82461676e-02  1.48946941e-01\n",
            "   4.19939160e-01  1.05992913e-01 -7.69711137e-02 -1.71856135e-01\n",
            "   4.37810458e-02 -5.13558388e-01  4.16659564e-02 -5.87142184e-02\n",
            "  -9.09560695e-02  3.58303860e-02  2.13683248e-01  2.59859025e-01\n",
            "   2.64539979e-02 -4.14739847e-01  6.72646910e-02 -4.81898099e-01\n",
            "  -2.35407114e-01 -8.89949352e-02 -7.11366832e-02 -9.07872617e-02\n",
            "   4.52870131e-01 -5.49953103e-01 -4.77027185e-02  4.93704140e-01\n",
            "   1.11583099e-01  1.63084082e-03  2.14448810e-01  5.20570204e-02\n",
            "  -8.75761509e-02  3.53748113e-01 -2.18476951e-01  9.78513658e-02\n",
            "   7.64806986e-01  1.43751711e-01  4.17928137e-02  1.63404614e-01\n",
            "   1.34554386e-01  1.13227770e-01  3.08447659e-01 -2.44122930e-04\n",
            "  -2.64312979e-02  8.45628232e-02  1.04602903e-01 -6.16929829e-01\n",
            "   9.20945257e-02 -6.82808831e-03 -1.67556018e-01 -3.19891334e-01\n",
            "   5.71624219e-01  3.94230425e-01 -4.39696312e-01 -1.55472428e-01\n",
            "  -6.75851703e-02 -2.05364272e-01  5.89831807e-02  1.70366187e-02\n",
            "   5.66340089e-02  2.82112323e-03  5.29455900e-01 -1.08289897e-01\n",
            "   2.09171414e-01  3.55914950e-01 -3.00628245e-01 -1.82715595e-01\n",
            "  -6.00910112e-02  2.28358224e-01  5.39128669e-02  7.22136378e-01\n",
            "  -3.65506679e-01  4.33943868e-01 -2.15287760e-01 -1.70385763e-01\n",
            "  -3.70973200e-02  1.06141128e-01  6.31855130e-02  9.84961241e-02\n",
            "   4.39038277e-02  1.40724510e-01  4.36603785e-01  3.85243475e-01\n",
            "   2.31884480e-01  2.33996406e-01  3.60394686e-01  3.90145257e-02\n",
            "   4.58081961e-01  4.62429285e-01  1.42209560e-01  1.51810065e-01\n",
            "  -7.45473877e-02  2.16124594e-01  2.58740783e-01  1.10819973e-01\n",
            "   4.65911448e-01  4.19083893e-01 -6.12683594e-03  7.74062812e-01\n",
            "   3.45431566e-01  2.34997839e-01  4.05714512e-01 -5.68858624e-01\n",
            "  -1.12362944e-01  9.30548534e-02  2.52567202e-01 -2.98069030e-01\n",
            "   9.36802998e-02  1.74700513e-01 -7.93981366e-03  2.85682201e-01\n",
            "  -2.68186212e-01 -4.10393953e-01 -1.47681385e-01  3.64597350e-01\n",
            "  -1.43865775e-03 -2.09629446e-01 -4.11885858e-01  2.53400989e-02\n",
            "  -1.15613239e-02  6.10478967e-02 -3.70541036e-01 -2.03541853e-02\n",
            "  -2.92637467e-01 -1.00311272e-01 -1.15735091e-01 -1.15002930e-01\n",
            "  -8.86726975e-02 -3.86196673e-01 -4.57779244e-02 -1.86950490e-01\n",
            "   1.65197045e-01 -2.42924646e-01 -3.07177547e-02 -1.95497163e-02\n",
            "   4.09921020e-01  1.27766818e-01  3.85968655e-01 -4.23483877e-03\n",
            "  -3.06632072e-02 -1.63883477e-01 -1.73102126e-01  2.13357344e-01\n",
            "   6.35791272e-02  2.39660993e-01  4.45092767e-02  7.84375966e-02\n",
            "  -1.86186820e-01 -9.50082466e-02  1.40593454e-01  3.05103391e-01\n",
            "  -4.89542365e-01 -7.61790350e-02 -1.73598185e-01  5.58095090e-02\n",
            "   1.01287425e-01  6.90063015e-02 -1.34221733e-01  2.66846959e-02\n",
            "  -4.24403436e-02 -2.48210758e-01 -6.58797175e-02  1.75987303e-01\n",
            "  -5.53751849e-02  1.44246548e-01  1.81594968e-01  6.01954982e-02\n",
            "  -2.46090680e-01 -7.10931793e-02 -1.83102667e-01  7.89599121e-02\n",
            "  -2.42247730e-02  3.03277194e-01 -1.00655809e-01 -3.46802890e-01\n",
            "  -1.65720403e-01  1.72570661e-01 -8.66198763e-02  1.11067459e-01\n",
            "   9.17364508e-02  2.77801096e-01 -5.28672636e-02  6.13696389e-02\n",
            "   3.61890018e-01  1.50731534e-01 -1.49646904e-02 -2.11449742e-01\n",
            "  -2.78655499e-01 -9.47466716e-02 -2.33551383e-01 -2.04978764e-01\n",
            "   9.08831600e-03 -2.35897183e-01 -1.24619134e-01  2.65014507e-02\n",
            "   4.56066616e-02 -1.22529306e-01  1.08061537e-01  1.02439307e-01]]\n"
          ]
        }
      ]
    }
  ]
}